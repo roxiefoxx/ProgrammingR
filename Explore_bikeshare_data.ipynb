{
 "cells": [
  {
   "cell_type": "raw",
   "id": "40d2e9a1",
   "metadata": {},
   "source": [
    "---\n",
    "title: \"Bike Share Data Analysis\"\n",
    "output: html_notebook\n",
    "---"
   ]
  },
  {
   "cell_type": "code",
   "execution_count": null,
   "id": "c8a04e04",
   "metadata": {},
   "outputs": [],
   "source": [
    "install.packages(\"jupytext\")\n",
    "\n",
    "knitr::opts_chunk$set(jupytext_formats = \"ipynb,Rmd\")\n"
   ]
  },
  {
   "cell_type": "markdown",
   "id": "80a167bc",
   "metadata": {},
   "source": [
    "This is an [R Markdown](http://rmarkdown.rstudio.com) Notebook. When you execute code within the notebook, the results appear beneath the code.\n",
    "\n",
    "Try executing this chunk by clicking the *Run* button within the chunk or by placing your cursor inside it and pressing *Cmd+Shift+Enter*.\n",
    "\n",
    "**#1 Popular times of travel** (i.e., occurs most often in the start time)\n",
    "\n",
    "-   [**What is the most common month?**]{.underline}\n",
    "\n",
    "-   What is the most common day of week?\n",
    "\n",
    "-   What is the most common hour of day?\n",
    "\n",
    "**#2 Popular stations and trip**\n",
    "\n",
    "-   What is the most common start station?\n",
    "\n",
    "-   [**What is the most common end station?**]{.underline}\n",
    "\n",
    "-   What is the most common trip from start to end (i.e., most frequent combination of start station and end station)?\n",
    "\n",
    "**#3 Trip duration**\n",
    "\n",
    "-   What is the total travel time for users in different cities?\n",
    "\n",
    "-   What is the average travel time for users in different cities?\n",
    "\n",
    "**#4 User info**\n",
    "\n",
    "-   What are the counts of each user type?\n",
    "\n",
    "-   What are the counts of each gender (only available for NYC and Chicago)?\n",
    "\n",
    "-   What are the earliest, most recent, most common year of birth (only available for NYC and Chicago)?"
   ]
  },
  {
   "cell_type": "code",
   "execution_count": null,
   "id": "cb8d505c",
   "metadata": {},
   "outputs": [],
   "source": [
    "install.packages(\"dplyr\",\"summarytools\",\"ggplot2\")"
   ]
  },
  {
   "cell_type": "code",
   "execution_count": null,
   "id": "f3434364",
   "metadata": {},
   "outputs": [],
   "source": [
    "library(dplyr, summarytools, ggplot2)"
   ]
  },
  {
   "cell_type": "markdown",
   "id": "3906a116",
   "metadata": {},
   "source": [
    "## Load, Inspect, and Clean the Data"
   ]
  },
  {
   "cell_type": "code",
   "execution_count": null,
   "id": "afeedd3b",
   "metadata": {},
   "outputs": [],
   "source": [
    "ny = read.csv(\"new-york-city.csv\")\n",
    "wash = read.csv(\"washington.csv\")\n",
    "chi = read.csv(\"chicago.csv\")"
   ]
  },
  {
   "cell_type": "code",
   "execution_count": null,
   "id": "1d0a71e2",
   "metadata": {},
   "outputs": [],
   "source": [
    "colnames(ny)"
   ]
  },
  {
   "cell_type": "code",
   "execution_count": null,
   "id": "63143a53",
   "metadata": {},
   "outputs": [],
   "source": [
    "colnames(wash)"
   ]
  },
  {
   "cell_type": "code",
   "execution_count": null,
   "id": "a7b32e18",
   "metadata": {},
   "outputs": [],
   "source": [
    "colnames(chi)"
   ]
  },
  {
   "cell_type": "code",
   "execution_count": null,
   "id": "cc25674c",
   "metadata": {},
   "outputs": [],
   "source": [
    "str(ny)"
   ]
  },
  {
   "cell_type": "code",
   "execution_count": null,
   "id": "0f647bf3",
   "metadata": {},
   "outputs": [],
   "source": [
    "str(wash)"
   ]
  },
  {
   "cell_type": "code",
   "execution_count": null,
   "id": "9d2b8773",
   "metadata": {},
   "outputs": [],
   "source": [
    "str(chi)"
   ]
  },
  {
   "cell_type": "markdown",
   "id": "9e4d01b6",
   "metadata": {},
   "source": [
    "------------------------------------------------------------------------\n",
    "\n",
    "### Fix Missing Data\n",
    "\n",
    "The dataframe 'wash' does not have the columns `$Gender` or `$Birth.Year`, which could affect combining the data. Will create some dummy columns to make the shapes the same."
   ]
  },
  {
   "cell_type": "code",
   "execution_count": null,
   "id": "b19ab731",
   "metadata": {},
   "outputs": [],
   "source": [
    "wash$Gender <- NA\n",
    "wash$Birth.Year <-NA"
   ]
  },
  {
   "cell_type": "markdown",
   "id": "51dacc89",
   "metadata": {},
   "source": [
    "### Fix Data Types\n",
    "\n",
    "Additionally, all `$Start.Time` and `$End.Times` are of the type character, should be some"
   ]
  },
  {
   "cell_type": "code",
   "execution_count": null,
   "id": "98cdb4e4",
   "metadata": {},
   "outputs": [],
   "source": [
    "formatDateTimeColumn <- function(df, col_name) {\n",
    "  # Check if the specified column exists in the dataframe\n",
    "  if (!col_name %in% colnames(df)) {\n",
    "    stop(\"Column not found in the dataframe.\")\n",
    "  }\n",
    "  \n",
    "  # Convert the specified column to POSIXct\n",
    "  df[[col_name]] <- as.POSIXct(df[[col_name]], format = \"%Y-%m-%d %H:%M:%S\")\n",
    "  \n",
    "  # Format the column using strftime()\n",
    "  df[[col_name]] <- strftime(df[[col_name]], format = \"%Y-%m-%d %H:%M:%S\")\n",
    "  \n",
    "  return(df)\n",
    "}"
   ]
  },
  {
   "cell_type": "code",
   "execution_count": null,
   "id": "965087d8",
   "metadata": {},
   "outputs": [],
   "source": [
    "ny <- formatDateTimeColumn(ny, \"Start.Time\")\n",
    "wash <- formatDateTimeColumn(wash, \"Start.Time\")\n",
    "chi <- formatDateTimeColumn(chi, \"Start.Time\")"
   ]
  },
  {
   "cell_type": "code",
   "execution_count": null,
   "id": "89016f31",
   "metadata": {},
   "outputs": [],
   "source": [
    "ny <- formatDateTimeColumn(ny, \"End.Time\")\n",
    "wash <- formatDateTimeColumn(wash, \"End.Time\")\n",
    "chi <- formatDateTimeColumn(chi, \"End.Time\")"
   ]
  },
  {
   "cell_type": "markdown",
   "id": "35370f01",
   "metadata": {},
   "source": [
    "### Put it all together and mix it all up\n",
    "\n",
    "Before I combine my dataframes into one master one, I need to indicate which city/dataset the values come from"
   ]
  },
  {
   "cell_type": "code",
   "execution_count": null,
   "id": "17fead1d",
   "metadata": {},
   "outputs": [],
   "source": [
    "ny$City <- \"NY\"\n",
    "wash$City <- \"Washington\"\n",
    "chi$City <- \"Chicago\""
   ]
  },
  {
   "cell_type": "code",
   "execution_count": null,
   "id": "26a3fbe1",
   "metadata": {},
   "outputs": [],
   "source": [
    "merged_df <-rbind(ny,wash)\n",
    "merged_df <- rbind(merged_df,chi)\n",
    "head(merged_df)"
   ]
  },
  {
   "cell_type": "markdown",
   "id": "12cb9d66",
   "metadata": {},
   "source": [
    "# **Questions:**\n",
    "\n",
    "## **#1 Popular times of travel** (i.e., occurs most often in the start time)\n",
    "\n",
    "-   What is the most common month?"
   ]
  },
  {
   "cell_type": "code",
   "execution_count": null,
   "id": "54fb327e",
   "metadata": {},
   "outputs": [],
   "source": [
    "# Extract the month from the 'Start.Time' column\n",
    "merged_df$Start.Month <- month(merged_df$Start.Time)\n",
    "\n",
    "# Calculate the mode (most common) month\n",
    "mode_month <- as.integer(names(sort(table(merged_df$Start.Month), decreasing = TRUE)[1]))\n",
    "\n",
    "# Convert the mode_month to a month name\n",
    "mode_month_name <- month.name[mode_month]\n",
    "\n",
    "# Print the result\n",
    "cat(\"The most common month is:\", mode_month_name, \"\\n\")"
   ]
  },
  {
   "cell_type": "code",
   "execution_count": null,
   "id": "072dc34f",
   "metadata": {},
   "outputs": [],
   "source": [
    "# Extract the month from the 'Start.Time' column\n",
    "merged_df$Start.Month <- month(merged_df$Start.Time)\n",
    "\n",
    "# Create separate dataframes for each city\n",
    "ny_data <- merged_df %>% filter(City == \"NY\")\n",
    "wash_data <- merged_df %>% filter(City == \"Washington\")\n",
    "chi_data <- merged_df %>% filter(City == \"Chicago\")\n",
    "\n",
    "# Create plots for each city\n",
    "ny_data <- ggplot(ny_data, aes(x = Start.Month)) +\n",
    "  geom_bar() +\n",
    "  labs(title = \"New York - Rides per Month\", x = \"Month\", y = \"Count\")\n",
    "\n",
    "wash_data <- ggplot(wash_data, aes(x = Start.Month)) +\n",
    "  geom_bar() +\n",
    "  labs(title = \"Washington - Rides per Month\", x = \"Month\", y = \"Count\")\n",
    "\n",
    "chi_data <- ggplot(chi_data, aes(x = Start.Month)) +\n",
    "  geom_bar() +\n",
    "  labs(title = \"Chicago - Rides per Month\", x = \"Month\", y = \"Count\")\n",
    "\n",
    "# Print the plots\n",
    "print(ny_data)\n",
    "print(wash_data)\n",
    "print(chi_data)"
   ]
  },
  {
   "cell_type": "markdown",
   "id": "6ade35b7",
   "metadata": {},
   "source": [
    "Summary: The dataset indicates that June is the most popular month, which could indicate an increase in ridership for the summer time; however after visualizing, it looks like we are limited to just the first half of the year, so this assumption could be wrong.\n",
    "\n",
    "------------------------------------------------------------------------\n",
    "\n",
    "## **#2 Popular stations and trip**\n",
    "\n",
    "-   What is the most common start station?"
   ]
  },
  {
   "cell_type": "code",
   "execution_count": null,
   "id": "1b8b153e",
   "metadata": {},
   "outputs": [],
   "source": [
    "# Use the table() function to count the occurrences of each end station\n",
    "end_station_counts <- table(merged_df$End.Station)\n",
    "\n",
    "# Sort the counts in descending order\n",
    "sorted_counts <- sort(end_station_counts, decreasing = TRUE)\n",
    "\n",
    "# Get the top 10 most common end stations\n",
    "top_10_end_stations <- head(sorted_counts, 10)\n",
    "\n",
    "# Print the result\n",
    "# print(top_10_end_stations)"
   ]
  },
  {
   "cell_type": "code",
   "execution_count": null,
   "id": "ee994b4b",
   "metadata": {},
   "outputs": [],
   "source": [
    "station_data <-as.data.frame(top_10_end_stations)\n",
    "colnames(station_data) <- c(\"End_Station\",\"Count\")\n",
    "\n",
    "\n",
    "# Show the results\n",
    "ggplot(station_data, aes(x = reorder(End_Station, -Count), y = Count)) +\n",
    "  geom_bar(stat = \"identity\", fill = \"skyblue\") +\n",
    "  labs(x = \"End Station\", y = \"Count\") +\n",
    "  ggtitle(\"Top 10 End Stations\") +\n",
    "  theme(axis.text.x = element_text(angle = 45, hjust = 1))"
   ]
  },
  {
   "cell_type": "markdown",
   "id": "53ae26dd",
   "metadata": {},
   "source": [
    "Let's get more complicated, let's graph by City, as well:"
   ]
  },
  {
   "cell_type": "code",
   "execution_count": null,
   "id": "d19ee872",
   "metadata": {},
   "outputs": [],
   "source": [
    "top_stations <- merged_df %>%\n",
    "  group_by(City, End.Station) %>%\n",
    "  summarize(Count = n()) %>%\n",
    "  arrange(City, desc(Count)) %>%\n",
    "  group_by(City) %>%\n",
    "  top_n(10, wt = Count)\n",
    "\n",
    "# Create a bar plot with bars colored by City and a legend\n",
    "ggplot(top_stations, aes(x = reorder(End.Station, -Count), y = Count, fill = City)) +\n",
    "  geom_bar(stat = \"identity\", position = \"dodge\") +\n",
    "  labs(x = \"End Station\", y = \"Count\") +\n",
    "  ggtitle(\"Top 10 End Stations Across All Cities\") +\n",
    "  theme(axis.text.x = element_text(angle = 45, hjust = 1)) +\n",
    "  scale_fill_manual(values = c(\"NY\" = \"skyblue\", \"Washington\" = \"salmon\", \"Chicago\" = \"chartreuse\")) +\n",
    "  guides(fill = guide_legend(title = \"City\"))"
   ]
  },
  {
   "cell_type": "markdown",
   "id": "e06e6655",
   "metadata": {},
   "source": [
    "Summary: I was able to see the top 10 end stations, however, when compared to all cities -- Washington did not have any stations in the top 10.\n",
    "\n",
    "## **#4 User info**\n",
    "\n",
    "-   What are the earliest, most recent, most common year of birth (only available for NYC and Chicago)?"
   ]
  },
  {
   "cell_type": "code",
   "execution_count": null,
   "id": "edabe34b",
   "metadata": {},
   "outputs": [],
   "source": [
    "# Load the necessary library (if not already loaded)\n",
    "# install.packages(\"dplyr\") # Uncomment this line if you haven't installed dplyr\n",
    "library(dplyr)\n",
    "\n",
    "# Assuming your dataframe is named 'merged_df'\n",
    "\n",
    "# Remove missing or invalid birth years (if any)\n",
    "merged_df <- merged_df %>%\n",
    "  filter(!is.na(Birth.Year) & Birth.Year >= 1900)\n",
    "\n",
    "# Find the earliest birth year\n",
    "earliest_birth_year <- min(merged_df$Birth.Year)\n",
    "\n",
    "# Find the most recent birth year\n",
    "most_recent_birth_year <- max(merged_df$Birth.Year)\n",
    "\n",
    "# Find the most common birth year\n",
    "most_common_birth_year <- merged_df %>%\n",
    "  group_by(Birth.Year) %>%\n",
    "  summarize(Count = n()) %>%\n",
    "  arrange(desc(Count)) %>%\n",
    "  slice(1) %>%\n",
    "  pull(Birth.Year)\n",
    "\n",
    "# Print the results\n",
    "cat(\"Earliest birth year:\", earliest_birth_year, \"\\n\")\n",
    "cat(\"Most recent birth year:\", most_recent_birth_year, \"\\n\")\n",
    "cat(\"Most common birth year:\", most_common_birth_year, \"\\n\")\n"
   ]
  },
  {
   "cell_type": "markdown",
   "id": "efe90d7a",
   "metadata": {},
   "source": [
    "Summary: We can see that there are some very old riders (someone born at least in 1900), but the most common birth year is slightly younger than I am (by a year at 1986).\n",
    "\n",
    "------------------------------------------------------------------------\n",
    "\n",
    "# Export for Submission"
   ]
  },
  {
   "cell_type": "code",
   "execution_count": null,
   "id": "bc1a67a1",
   "metadata": {},
   "outputs": [],
   "source": []
  }
 ],
 "metadata": {
  "jupytext": {
   "cell_metadata_filter": "-all",
   "main_language": "R",
   "notebook_metadata_filter": "-all"
  }
 },
 "nbformat": 4,
 "nbformat_minor": 5
}
